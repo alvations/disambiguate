{
 "cells": [
  {
   "cell_type": "code",
   "execution_count": 6,
   "metadata": {},
   "outputs": [],
   "source": [
    "import pickle\n",
    "from typing import List\n",
    "\n",
    "from lazyme import find_files\n",
    "from IPython.display import clear_output"
   ]
  },
  {
   "cell_type": "code",
   "execution_count": 20,
   "metadata": {},
   "outputs": [],
   "source": [
    "import torch \n",
    "\n",
    "from getalp.wsd.predicter import Predicter\n",
    "from getalp.wsd.model import Model, ModelConfig, DataConfig"
   ]
  },
  {
   "cell_type": "code",
   "execution_count": 3,
   "metadata": {},
   "outputs": [],
   "source": [
    "def read_sample_x_from_string(string: str, feature_count: int, clear_text: List[bool]):\n",
    "    sample_x: List = [[] for _ in range(feature_count)]\n",
    "    for word in string.split():\n",
    "        word_features = word.split('/')\n",
    "        for i in range(feature_count):\n",
    "            if clear_text[i]:\n",
    "                sample_x[i].append(word_features[i].replace(\"<slash>\", \"/\"))\n",
    "            else:\n",
    "                sample_x[i].append(int(word_features[i]))\n",
    "    for i in range(feature_count):\n",
    "        if not clear_text[i]:\n",
    "            sample_x[i] = torch_tensor(sample_x[i], dtype=torch_long, device=cpu_device)\n",
    "    return sample_x"
   ]
  },
  {
   "cell_type": "code",
   "execution_count": 50,
   "metadata": {},
   "outputs": [],
   "source": [
    "class Predictor:\n",
    "    def __init__(self, config_filename, ensemble_filenames, outvocab_filename, clear_text=True):\n",
    "        # Really odd way of loading config -_-\n",
    "        self.data_config = DataConfig()\n",
    "        self.data_config.load_from_file(config_filename)\n",
    "        \n",
    "        self.model_config = ModelConfig(self.data_config)\n",
    "        self.model_config.load_from_file(config_filename)\n",
    "        \n",
    "        # Even more odd to read function arguments. \n",
    "        if clear_text:\n",
    "            self.model_config.data_config.input_clear_text = [\n",
    "                True for _ in range(self.model_config.data_config.input_features)\n",
    "            ]\n",
    "\n",
    "        to_disambiguate = False if self.data_config.output_features <= 0 else True\n",
    "        to_translate = False if self.data_config.output_translations <= 0 else True\n",
    "        \n",
    "        # Load ensembles.\n",
    "        self.ensemble = self.load_ensemble(ensemble_filenames)\n",
    "        \n",
    "        # Weird predictor object that isn't Object oriented at all -_-|||\n",
    "        # More like an empty shell. \n",
    "        self.predictor = Predicter()\n",
    "        \n",
    "        self.output_vocab = self.load_sense_inventory(outvocab_filename)\n",
    "        \n",
    "    def load_sense_inventory(self, outvocab_filename):\n",
    "        sense_inventory = []\n",
    "        with open(outvocab_filename) as fin:\n",
    "            for line in fin:\n",
    "                sense_inventory.append(line.strip())\n",
    "        return sense_inventory\n",
    "        \n",
    "    \n",
    "    def load_ensemble(self, ensemble_filenames):\n",
    "        # Load ensemble.\n",
    "        ensemble = []\n",
    "        for fn in ensemble_filenames:\n",
    "            model = Model(self.model_config)\n",
    "            model.load_model_weights(fn)\n",
    "            ensemble.append(model)\n",
    "        return ensemble\n",
    "        \n",
    "    def process_input(self, text):\n",
    "        \"\"\" Converts text to predictor's input \"\"\"\n",
    "        sample = read_sample_x_from_string(\n",
    "             text, \n",
    "             feature_count=self.data_config.input_features, \n",
    "            clear_text=self.data_config.input_clear_text\n",
    "        )\n",
    "        # Proessed input\n",
    "        self.predictor.preprocess_sample_x(self.ensemble, sample)\n",
    "        return sample\n",
    "\n",
    "    def disambiguate(self, text):\n",
    "        batch = [self.process_input(text)]\n",
    "        # Output tensor => [l x v]\n",
    "        tensor_result = self.predictor.predict_ensemble_wsd_on_batch(self.ensemble, batch)[0]\n",
    "        # Get the output vocab indices. \n",
    "        sense_indices = [int(torch.argmax(sense_tensor, dim=0)) for sense_tensor in tensor_result]\n",
    "        senses = [self.output_vocab[i] for i in sense_indices]\n",
    "        return senses"
   ]
  },
  {
   "cell_type": "code",
   "execution_count": 70,
   "metadata": {},
   "outputs": [],
   "source": [
    "model_filenames = sorted(find_files(\"models/\", \"cpu*\"))\n",
    "\n",
    "p = Predictor('config.json', model_filenames, 'output_vocabulary0')\n",
    "\n",
    "# Fancy thing to clear the logging outputs away.\n",
    "clear_output()"
   ]
  },
  {
   "cell_type": "code",
   "execution_count": 71,
   "metadata": {},
   "outputs": [
    {
     "name": "stdout",
     "output_type": "stream",
     "text": [
      "Synset('person.n.01')\n",
      "Synset('have.v.01')\n",
      "Synset('category.n.02')\n"
     ]
    },
    {
     "name": "stderr",
     "output_type": "stream",
     "text": [
      "/Users/liling.tan/Library/Python/3.6/lib/python/site-packages/ipykernel_launcher.py:8: DeprecationWarning: \n",
      "  Function _synset_from_pos_and_offset() has been deprecated.  Use\n",
      "  public method synset_from_pos_and_offset() instead\n",
      "  \n"
     ]
    }
   ],
   "source": [
    "from nltk.corpus import wordnet as wn\n",
    "\n",
    "output_senses = p.disambiguate('cat like fish')\n",
    "\n",
    "for ss in output_senses:\n",
    "    pos = ss[0]\n",
    "    offset = int(ss[1:])\n",
    "    print(wn._synset_from_pos_and_offset(pos, offset))"
   ]
  },
  {
   "cell_type": "code",
   "execution_count": null,
   "metadata": {},
   "outputs": [],
   "source": []
  },
  {
   "cell_type": "code",
   "execution_count": null,
   "metadata": {},
   "outputs": [],
   "source": []
  },
  {
   "cell_type": "code",
   "execution_count": null,
   "metadata": {},
   "outputs": [],
   "source": []
  },
  {
   "cell_type": "code",
   "execution_count": null,
   "metadata": {},
   "outputs": [],
   "source": []
  },
  {
   "cell_type": "code",
   "execution_count": null,
   "metadata": {},
   "outputs": [],
   "source": []
  },
  {
   "cell_type": "code",
   "execution_count": null,
   "metadata": {},
   "outputs": [],
   "source": []
  }
 ],
 "metadata": {
  "kernelspec": {
   "display_name": "Python 3",
   "language": "python",
   "name": "python3"
  },
  "language_info": {
   "codemirror_mode": {
    "name": "ipython",
    "version": 3
   },
   "file_extension": ".py",
   "mimetype": "text/x-python",
   "name": "python",
   "nbconvert_exporter": "python",
   "pygments_lexer": "ipython3",
   "version": "3.6.4rc1"
  }
 },
 "nbformat": 4,
 "nbformat_minor": 4
}
